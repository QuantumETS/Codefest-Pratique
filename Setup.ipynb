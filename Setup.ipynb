{
 "cells": [
  {
   "cell_type": "markdown",
   "metadata": {},
   "source": [
    "Voici quelque librairie que vous devriez avoir dans votre environnement avant de commencer la pratique:\n",
    "- <code>pip install qiskit</code>\n",
    "- <code>pip install qiskit-ibm-runtime</code>\n",
    "- <code>pip install qiskit[visualization]</code>\n",
    "- <code>pip install qiskit_aer</code>\n",
    "\n",
    "Si vous voulez vous faire un setup plus avancé, vous pouvez consulter la page suivante: https://docs.quantum.ibm.com/start/install"
   ]
  }
 ],
 "metadata": {
  "language_info": {
   "name": "python"
  }
 },
 "nbformat": 4,
 "nbformat_minor": 2
}
