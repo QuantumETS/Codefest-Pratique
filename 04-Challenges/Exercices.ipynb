{
 "cells": [
  {
   "cell_type": "markdown",
   "metadata": {},
   "source": [
    "## Challenge 01 - Mid-Circuit Measurement\n",
    "\n",
    "Faire l'exercice <code>Exercice-01</code>"
   ]
  },
  {
   "cell_type": "markdown",
   "metadata": {},
   "source": [
    "## Challenge 02 - The Biggest Number\n",
    "\n",
    "On vous fournit une liste de nombre et votre objectif est de développer un circuit qui retourne l'indice du plus gros nombre de cette liste."
   ]
  },
  {
   "cell_type": "code",
   "execution_count": null,
   "metadata": {},
   "outputs": [],
   "source": [
    "test_cases = [\n",
    "    {'input': [0, 1, 2, 3], 'output': 3},\n",
    "    {'input': [7, 42, 1], 'output': 1},\n",
    "    {'input': [32, 16, 69, 8], 'output': 2},]\n",
    "\n",
    "# TODO"
   ]
  }
 ],
 "metadata": {
  "language_info": {
   "name": "python"
  }
 },
 "nbformat": 4,
 "nbformat_minor": 2
}
