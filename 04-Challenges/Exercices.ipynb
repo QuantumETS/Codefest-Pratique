{
 "cells": [
  {
   "cell_type": "markdown",
   "metadata": {},
   "source": [
    "# Exercice 01\n",
    "\n",
    "## 1.1 Mid-Circuit Measurement\n",
    "\n",
    "https://github.com/SimonR99/qhack_2023_coding_challenges/tree/main/tutorial_challenges/tutorial_8"
   ]
  },
  {
   "cell_type": "code",
   "execution_count": null,
   "metadata": {},
   "outputs": [],
   "source": [
    "# TODO"
   ]
  },
  {
   "cell_type": "markdown",
   "metadata": {},
   "source": [
    "### 1.2 Falcon Method for optimising"
   ]
  },
  {
   "cell_type": "code",
   "execution_count": null,
   "metadata": {},
   "outputs": [],
   "source": [
    "# TODO"
   ]
  },
  {
   "cell_type": "markdown",
   "metadata": {},
   "source": [
    "# Exercice 02\n",
    "\n",
    "Find the position of the biggest number in an array\n",
    "\n",
    "https://medium.com/@aniruddha.connect/finding-smallest-number-of-an-array-with-quantum-computer-824386348fe0"
   ]
  },
  {
   "cell_type": "code",
   "execution_count": null,
   "metadata": {},
   "outputs": [],
   "source": [
    "# TODO"
   ]
  },
  {
   "cell_type": "markdown",
   "metadata": {},
   "source": [
    "# Exercice 03\n",
    "\n",
    "If need more\n",
    "\n",
    "https://github.com/SimonR99/qhack_2023_coding_challenges/tree/main/bending_bennetts_laws/bending_bennets_laws_100"
   ]
  }
 ],
 "metadata": {
  "language_info": {
   "name": "python"
  }
 },
 "nbformat": 4,
 "nbformat_minor": 2
}
