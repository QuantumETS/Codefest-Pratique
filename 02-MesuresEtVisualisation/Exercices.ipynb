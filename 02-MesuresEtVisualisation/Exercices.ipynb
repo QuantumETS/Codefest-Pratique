{
 "cells": [
  {
   "cell_type": "markdown",
   "metadata": {},
   "source": [
    "# Exercice 01\n",
    "\n",
    "Aller survoler le contenue de la page https://docs.quantum.ibm.com/api/qiskit/visualization"
   ]
  },
  {
   "cell_type": "markdown",
   "metadata": {},
   "source": [
    "# Exercice 02\n",
    "\n",
    "2.1\n",
    "Rouler le circuit sur un simulateur AER et visualise les resultats sur un histogram\n"
   ]
  },
  {
   "cell_type": "code",
   "execution_count": null,
   "metadata": {
    "vscode": {
     "languageId": "plaintext"
    }
   },
   "outputs": [],
   "source": []
  },
  {
   "cell_type": "markdown",
   "metadata": {},
   "source": [
    "2.2\n",
    "Rouler un circuit sur un simulateur QASM et affiche sur un meme histogram le resultats des deux simulateur"
   ]
  },
  {
   "cell_type": "code",
   "execution_count": null,
   "metadata": {
    "vscode": {
     "languageId": "plaintext"
    }
   },
   "outputs": [],
   "source": []
  },
  {
   "cell_type": "markdown",
   "metadata": {},
   "source": [
    "# Exercice 03\n",
    "\n",
    "3.1\n",
    "\n",
    "Faire un circuit de grover et separer en trois section le circuit\n",
    "1. Parelisation\n",
    "2. Oracle\n",
    "3. Diffuseur\n",
    "\n",
    "Ensuite affiche le circuit"
   ]
  },
  {
   "cell_type": "code",
   "execution_count": null,
   "metadata": {
    "vscode": {
     "languageId": "plaintext"
    }
   },
   "outputs": [],
   "source": []
  },
  {
   "cell_type": "markdown",
   "metadata": {},
   "source": [
    "3.2\n",
    "\n",
    "Prendre le code de chaque section et le transformer en leur propre porte\n",
    "\n",
    "Tu trouve le stock dans codebook 3\n",
    "\n",
    "https://deepnote.com/workspace/quantum-ets-bd6b11e4-0d15-4576-90e5-88412c5f674e/project/3-Manipulation-de-plusieurs-qubits-6a9197fc-3bcf-496c-8428-9f235c186d3c/notebook/a1b38b16a5db482d8fb7084654023960"
   ]
  },
  {
   "cell_type": "code",
   "execution_count": null,
   "metadata": {
    "vscode": {
     "languageId": "plaintext"
    }
   },
   "outputs": [],
   "source": []
  }
 ],
 "metadata": {
  "language_info": {
   "name": "python"
  }
 },
 "nbformat": 4,
 "nbformat_minor": 2
}
