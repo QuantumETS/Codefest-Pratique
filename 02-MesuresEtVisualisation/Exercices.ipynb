{
 "cells": [
  {
   "cell_type": "markdown",
   "metadata": {},
   "source": [
    "# Exercice 01\n",
    "\n",
    "Survoler le contenu de la page https://docs.quantum.ibm.com/api/qiskit/visualization"
   ]
  },
  {
   "cell_type": "markdown",
   "metadata": {},
   "source": [
    "# Exercice 02"
   ]
  },
  {
   "cell_type": "code",
   "execution_count": 4,
   "metadata": {},
   "outputs": [],
   "source": [
    "# Exemple circuit taken from: https://docs.quantum.ibm.com/api/qiskit/circuit\n",
    "from qiskit import QuantumCircuit\n",
    "\n",
    "# Create a circuit with a register of three qubits\n",
    "circ = QuantumCircuit(3)\n",
    "\n",
    "circ.h(0)\n",
    "circ.cx(0, 1)\n",
    "circ.cx(0, 2)\n",
    "circ.measure_all()\n"
   ]
  },
  {
   "cell_type": "markdown",
   "metadata": {},
   "source": [
    "#### 2.1\n",
    "Roulez le circuit sur un simulateur AER et visualise les résultats sur un histogramme"
   ]
  },
  {
   "cell_type": "code",
   "execution_count": 6,
   "metadata": {},
   "outputs": [],
   "source": [
    "# TODO"
   ]
  },
  {
   "cell_type": "markdown",
   "metadata": {},
   "source": [
    "Vous pouvez comparer votre réponse avec l'image <code>Solutions/EX02-01-Solution</code>"
   ]
  },
  {
   "cell_type": "markdown",
   "metadata": {},
   "source": [
    "#### 2.2\n",
    "Roulez le circuit sur un simulateur avec du bruits et affichez sur un même histogramme le résultat des deux simulateurs"
   ]
  },
  {
   "cell_type": "code",
   "execution_count": 7,
   "metadata": {},
   "outputs": [],
   "source": [
    "# TODO"
   ]
  },
  {
   "cell_type": "markdown",
   "metadata": {},
   "source": [
    "# Exercice 03\n",
    "\n",
    "#### 3.1\n",
    "\n",
    "Faire un circuit de Grover avec l'oracle suivant et le séparer en trois sections:\n",
    "1. Parallélisation\n",
    "2. Oracle de phase\n",
    "3. Diffuseur\n",
    "\n",
    "Vous ne pouvez utiliser que les portes <code>PauliX</code>, <code>Hadamard</code> et <code>CX</code> pour faire votre circuit.\n",
    "\n",
    "Les trois sections doivent être séparées de manière à distinctement voir la différence entre chaque section.\n",
    "\n",
    "<em>Hint: <code>qc.barrier</code></em>"
   ]
  },
  {
   "cell_type": "code",
   "execution_count": 45,
   "metadata": {},
   "outputs": [],
   "source": [
    "from qiskit import QuantumCircuit\n",
    "from qiskit.circuit.library import MCXGate\n",
    "\n",
    "def phase_oracle(solution):\n",
    "    nqubits = len(solution)\n",
    "    circuit = QuantumCircuit(nqubits+1)\n",
    "    gate = MCXGate(nqubits, ctrl_state=solution[::-1])\n",
    "    circuit.append(gate, [q for q in range(nqubits+1)])\n",
    "    return circuit"
   ]
  },
  {
   "cell_type": "code",
   "execution_count": 50,
   "metadata": {},
   "outputs": [],
   "source": [
    "# TODO\n",
    "\n",
    "test1 = \"0100\"\n",
    "test2 = \"10101\""
   ]
  },
  {
   "cell_type": "markdown",
   "metadata": {},
   "source": [
    "#### 3.2 <em>BONUS</em>\n",
    "\n",
    "Si tu as le temps, transforme chaque section en sa propre porte et affiche le circuit final."
   ]
  },
  {
   "cell_type": "code",
   "execution_count": null,
   "metadata": {},
   "outputs": [],
   "source": [
    "# TODO"
   ]
  }
 ],
 "metadata": {
  "kernelspec": {
   "display_name": "Qiskit",
   "language": "python",
   "name": "python3"
  },
  "language_info": {
   "codemirror_mode": {
    "name": "ipython",
    "version": 3
   },
   "file_extension": ".py",
   "mimetype": "text/x-python",
   "name": "python",
   "nbconvert_exporter": "python",
   "pygments_lexer": "ipython3",
   "version": "3.11.7"
  }
 },
 "nbformat": 4,
 "nbformat_minor": 2
}
