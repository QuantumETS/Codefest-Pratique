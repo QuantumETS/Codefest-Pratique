{
 "cells": [
  {
   "cell_type": "markdown",
   "metadata": {},
   "source": [
    "# Exercice 01\n",
    "\n",
    "Faire un circuit avec un registre de 3 qubits et 1 bit.\n",
    "Le circuit devrait contenir une tour de portes hadamard et une mesure a la fin sur les 3 qubits à la fin."
   ]
  },
  {
   "cell_type": "code",
   "execution_count": 7,
   "metadata": {},
   "outputs": [],
   "source": [
    "# TODO"
   ]
  },
  {
   "cell_type": "markdown",
   "metadata": {},
   "source": [
    "Vous pouvez comparer votre réponse avec l'image <code>Solutions/EX01-Solution</code>"
   ]
  },
  {
   "cell_type": "markdown",
   "metadata": {},
   "source": [
    "# Exercice 02\n",
    "\n",
    "Faire un circuit de 2 qubits qui produit l'état de Bell suivant:\n",
    "\n",
    "$${\\displaystyle |\\Phi ^{+}\\rangle ={\\frac {1}{\\sqrt {2}}}(|0\\rangle _{A}\\otimes |0\\rangle _{B}+|1\\rangle _{A}\\otimes |1\\rangle _{B})}$$"
   ]
  },
  {
   "cell_type": "code",
   "execution_count": 20,
   "metadata": {},
   "outputs": [
    {
     "name": "stdout",
     "output_type": "stream",
     "text": [
      "Votre réponse est :  TODO\n",
      "La bonne réponse est :  Statevector([ 0.70710678-0.j,  0.        -0.j,  0.        -0.j,\n",
      "             -0.70710678-0.j],\n",
      "            dims=(2, 2))\n"
     ]
    }
   ],
   "source": [
    "from numpy import sqrt\n",
    "from qiskit.quantum_info import Statevector\n",
    "\n",
    "#TODO\n",
    "\n",
    "expected_results = [1/sqrt(2), 0, 0, -1/sqrt(2)]\n",
    "\n",
    "print(\"Votre réponse est : \", \"TODO\")\n",
    "print(\"La bonne réponse est : \", Statevector(expected_results).conjugate())"
   ]
  },
  {
   "cell_type": "markdown",
   "metadata": {},
   "source": [
    "# Exercice 03\n",
    "\n",
    "Trouver une façon d'encoder l'ensemble de nombres <code>data</code> dans un circuit quantique.\n",
    "\n",
    "<em>Hint: Il y a plusieurs solutions possibles, mais une approche simple serait avec de l’Angle Embedding</em>"
   ]
  },
  {
   "cell_type": "code",
   "execution_count": null,
   "metadata": {},
   "outputs": [],
   "source": [
    "data = [1, 2, 3, 4, 5] # Data to be encoded into the quantum circuit\n",
    "\n",
    "#TODO"
   ]
  },
  {
   "cell_type": "markdown",
   "metadata": {},
   "source": [
    "# Exercice 04\n",
    "\n",
    "Reproduire un circuit de teleportation sur qiskit\n",
    "\n",
    " <img src=\"./images/teleportation1.jpeg\" width=\"650\"/>"
   ]
  },
  {
   "cell_type": "code",
   "execution_count": null,
   "metadata": {},
   "outputs": [],
   "source": [
    "# TODO"
   ]
  }
 ],
 "metadata": {
  "kernelspec": {
   "display_name": "Qiskit",
   "language": "python",
   "name": "python3"
  },
  "language_info": {
   "codemirror_mode": {
    "name": "ipython",
    "version": 3
   },
   "file_extension": ".py",
   "mimetype": "text/x-python",
   "name": "python",
   "nbconvert_exporter": "python",
   "pygments_lexer": "ipython3",
   "version": "3.11.7"
  }
 },
 "nbformat": 4,
 "nbformat_minor": 2
}
