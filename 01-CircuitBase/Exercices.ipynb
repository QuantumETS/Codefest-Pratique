{
 "cells": [
  {
   "cell_type": "markdown",
   "metadata": {},
   "source": [
    "# Exercice 01\n",
    "\n",
    "Faire un circuit de 3 qubits avec une tour hadamard et une mesure a la fin"
   ]
  },
  {
   "cell_type": "code",
   "execution_count": null,
   "metadata": {},
   "outputs": [],
   "source": [
    "# TODO"
   ]
  },
  {
   "cell_type": "markdown",
   "metadata": {},
   "source": [
    "# Exercice 02\n",
    "\n",
    "Faire un circuit qui fait un etat de bell suivant\n",
    "\n",
    "$${\\displaystyle |\\Phi ^{+}\\rangle ={\\frac {1}{\\sqrt {2}}}(|0\\rangle _{A}\\otimes |0\\rangle _{B}+|1\\rangle _{A}\\otimes |1\\rangle _{B})}$$"
   ]
  },
  {
   "cell_type": "code",
   "execution_count": null,
   "metadata": {},
   "outputs": [],
   "source": [
    "#TODO"
   ]
  },
  {
   "cell_type": "markdown",
   "metadata": {},
   "source": [
    "# Exercice 03\n",
    "\n",
    "Encoder un l'hamiltonien suivant\n",
    "\n",
    "https://learning.quantum.ibm.com/tutorial/quantum-approximate-optimization-algorithm"
   ]
  },
  {
   "cell_type": "code",
   "execution_count": null,
   "metadata": {},
   "outputs": [],
   "source": [
    "#TODO"
   ]
  },
  {
   "cell_type": "markdown",
   "metadata": {},
   "source": [
    "# Exercice 04\n",
    "\n",
    "Encoder le dictionnaire de valeurs suivant dans un circuit \n",
    "\n",
    "Les valeurs doivent etre encoder dans l'angle des qubits"
   ]
  },
  {
   "cell_type": "code",
   "execution_count": null,
   "metadata": {},
   "outputs": [],
   "source": [
    "#TODO"
   ]
  },
  {
   "cell_type": "markdown",
   "metadata": {},
   "source": [
    "# Exercice 05\n",
    "\n",
    "Faire un circuit de teleportation\n",
    "\n",
    "https://docs.quantum.ibm.com/api/qiskit/circuit\n",
    "\n",
    "qc.x(0).c_if(cr, 0)"
   ]
  },
  {
   "cell_type": "code",
   "execution_count": null,
   "metadata": {},
   "outputs": [],
   "source": [
    "#TODO"
   ]
  }
 ],
 "metadata": {
  "language_info": {
   "name": "python"
  }
 },
 "nbformat": 4,
 "nbformat_minor": 2
}
