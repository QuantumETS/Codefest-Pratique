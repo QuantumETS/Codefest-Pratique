{
 "cells": [
  {
   "cell_type": "markdown",
   "metadata": {},
   "source": [
    "# Exercice 01\n",
    "\n",
    "IDK TODO"
   ]
  },
  {
   "cell_type": "code",
   "execution_count": null,
   "metadata": {
    "vscode": {
     "languageId": "plaintext"
    }
   },
   "outputs": [],
   "source": []
  },
  {
   "cell_type": "markdown",
   "metadata": {},
   "source": [
    " \n",
    "# Exercice 03 QAOA \n",
    "\n",
    "Faire un noiseless QAOA\n",
    "\n",
    "https://github.com/QuantumETS/ETS-CanadianQuantumCup-2023/blob/main/Round2/NoisyQAOA/NoisyQAOA.ipynb\n",
    "\n",
    "https://learning.quantum.ibm.com/tutorial/quantum-approximate-optimization-algorithm"
   ]
  },
  {
   "cell_type": "code",
   "execution_count": null,
   "metadata": {
    "vscode": {
     "languageId": "plaintext"
    }
   },
   "outputs": [],
   "source": []
  },
  {
   "cell_type": "markdown",
   "metadata": {},
   "source": [
    "\n",
    "# Exercice 04 QML\n",
    "\n",
    "https://github.com/SimonR99/qhack_2023_coding_challenges/tree/main/tutorial_challenges/tutorial_7"
   ]
  },
  {
   "cell_type": "code",
   "execution_count": null,
   "metadata": {
    "vscode": {
     "languageId": "plaintext"
    }
   },
   "outputs": [],
   "source": []
  },
  {
   "cell_type": "markdown",
   "metadata": {},
   "source": [
    "# Exercice 05 VQE\n",
    "\n",
    "https://github.com/SimonR99/qhack_2023_coding_challenges/tree/main/tutorial_challenges/tutorial_5"
   ]
  },
  {
   "cell_type": "code",
   "execution_count": null,
   "metadata": {
    "vscode": {
     "languageId": "plaintext"
    }
   },
   "outputs": [],
   "source": []
  }
 ],
 "metadata": {
  "language_info": {
   "name": "python"
  }
 },
 "nbformat": 4,
 "nbformat_minor": 2
}
