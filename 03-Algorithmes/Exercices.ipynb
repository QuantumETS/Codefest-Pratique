{
 "cells": [
  {
   "cell_type": "markdown",
   "metadata": {},
   "source": [
    "# Exercice 01\n",
    "\n",
    "**Faire sa librairie de snippets et de codes.**\n",
    "\n",
    "Aller chercher sur le web pour trouver 2 à 3 exemples d'exercices/code qui implémentent différents algorithmes quantiques. Le code devrait préférablement être pour qiskit 1.0 mais PennyLane marche aussi.\n",
    "\n",
    "Ensuite, on va discuter rapidement de l'implémentation et après discussion on va post les ressources qu'on a trouvées dans le channel discord de la compétition.\n",
    "\n",
    "Voici quelque endroit ou faire une recherche pourrait être intéressant:\n",
    "- PennyLane démos et compagnie\n",
    "- GitHub\n",
    "    - https://github.com/QuantumETS\n",
    "    - Recherche de mots clés et recherche Google\n",
    "- Previous Hackathon et Competitions\n",
    "    - QHack (PennyLane)\n",
    "    - Canadian Quantum Cup (PennyLane)\n",
    "- Qiskit Summer School (Deprecated version of Qiskit though...)\n",
    "- Papiers scientifiques **(Hardcore mode)**\n",
    "- Google!"
   ]
  },
  {
   "cell_type": "code",
   "execution_count": null,
   "metadata": {
    "vscode": {
     "languageId": "plaintext"
    }
   },
   "outputs": [],
   "source": [
    "Algorithme 1        : __________________\n",
    "Courte description  : __________________\n",
    "Link to code        : __________________\n",
    "Qiskit Template?    : __________________\n",
    "\n",
    "Algorithme 2        : __________________\n",
    "Courte description  : __________________\n",
    "Link to code        : __________________\n",
    "Qiskit Template?    : __________________\n",
    "\n",
    "Algorithme 3        : __________________\n",
    "Courte description  : __________________\n",
    "Link to code        : __________________\n",
    "Qiskit Template?    : __________________"
   ]
  },
  {
   "cell_type": "markdown",
   "metadata": {},
   "source": [
    " \n",
    "# Exercice 02 QAOA \n",
    "\n",
    "Faire l'exercice <code>Exercice-QAOA</code>"
   ]
  },
  {
   "cell_type": "markdown",
   "metadata": {},
   "source": [
    "\n",
    "# Exercice 03 QML\n",
    "\n",
    "Faire l'exercice <code>Exercice-QML</code>"
   ]
  }
 ],
 "metadata": {
  "language_info": {
   "name": "python"
  }
 },
 "nbformat": 4,
 "nbformat_minor": 2
}
