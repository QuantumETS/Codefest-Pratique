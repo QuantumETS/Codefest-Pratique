{
 "cells": [
  {
   "cell_type": "markdown",
   "id": "c7539099",
   "metadata": {},
   "source": [
    "# Exercice 03 — Quantum machine learning\n",
    "\n",
    "<em>Exercice taken from qhack_2023_coding_challenges</em>\n",
    "\n",
    "Quantum machine learning is an area of research that explores the interplay between quantum computing and machine learning. Quantum machine learning models might offer significant speedups for performing certain tasks like classification, image processing, and regression.\n",
    "\n",
    "In this challenge, you'll learn the meat and potatoes of training a quantum machine learning model. Specifically, you will implement a procedure for embedding classical numbers into a quantum computer, construct a simple quantum machine learning model, and perform three optimization steps. The quantum circuit in the model that you will implement looks like this:\n",
    "\n",
    " <img src=\"./images/daily7.png\" width=\"650\"/>\n",
    "\n",
    "## Challenge code\n",
    " \n",
    " In the code below, you must complete the following functions:\n",
    " \n",
    " - `three_optimization_steps`: performs three optimization steps.\n",
    " - `cost`: this is within the `three_optimization_steps` function. `cost` is a QNode that does a few things:\n",
    "   + acts on 3 qubits only;\n",
    "   + embeds the input `data` via **amplitude embedding**;\n",
    "   + defines a basic entangling layer with rotation on the X axis (below is an example of a basic entangling layer); and\n",
    "   + returns the expectation value of $\\sum_{i = 1}^n Z_i$, where $n$ is the number of qubits.\n",
    "\n",
    "\n",
    " **Basic entangling layer**\n",
    "\n",
    " <img src=\"./images/basic_entangler.png\" width=\"650\"/>\n",
    "\n",
    " A basic entangling layer consist of rotation gates followed by CNOT gates that entangle the qubits together.\n",
    " \n",
    " To perform three optimization steps, use a gradient decent optimizer with a step size of $0.01$. `weights` are the parameters that will be optimized.\n",
    " \n",
    " Here are some helpful **PennyLane** resources:\n",
    " \n",
    " - [Optimizing a quantum circuit — YouTube video](https://youtu.be/TiQ7T1h8VAQ)\n",
    " - [Basic tutorial: qubit rotation — Optimization](https://pennylane.ai/qml/demos/tutorial_qubit_rotation.html#optimization)\n",
    " \n",
    " ### Input \n",
    " \n",
    " As input to this problem, you are given classical `data` (`list(float)`) that you must embed into a quantum circuit via **amplitude embedding**\n",
    " \n",
    " ### Output\n",
    " \n",
    " This code must output the evaluation of `cost` after three optimization steps have been performed.\n",
    " \n",
    " If your solution matches the correct one within the given tolerance specified in `check` (in this case it's a `1e-4` relative error tolerance), the output will be `\"Correct!\"` Otherwise, you will receive a `\"Wrong answer\"` prompt.\n",
    " \n",
    " Good luck!\n",
    " ### Imports\n",
    " The cell below specifies the libraries you should use in this challenge. Run the cell to import the libraries."
   ]
  },
  {
   "cell_type": "code",
   "execution_count": null,
   "id": "42870156",
   "metadata": {},
   "outputs": [],
   "source": [
    "import json\n",
    "import numpy as np\n",
    "\n",
    "# TODO"
   ]
  },
  {
   "cell_type": "markdown",
   "id": "cdf0d008",
   "metadata": {},
   "source": [
    "### Code\n",
    " Complete the code below. Note that during QHack, some sections were not editable. We've marked those sections accordingly here, but you can still edit them if you wish."
   ]
  },
  {
   "cell_type": "code",
   "execution_count": null,
   "id": "65b13859",
   "metadata": {},
   "outputs": [],
   "source": [
    "def three_optimization_steps(data):\n",
    "    \"\"\"Performs three optimization steps on a quantum machine learning model.\n",
    "\n",
    "    Args:\n",
    "        data (list(float)): Classical data that is to be embedded in a quantum circuit.\n",
    "\n",
    "    Returns:\n",
    "        (float): The cost function evaluated after three optimization steps.\n",
    "    \"\"\"\n",
    "\n",
    "    normalize = np.sqrt(np.sum(data[i] ** 2 for i in range(len(data))))\n",
    "    data /= normalize\n",
    "\n",
    "    def cost(weights, data=data):\n",
    "        \"\"\"A circuit that embeds classical data and has quantum gates with tunable parameters/weights.\n",
    "\n",
    "        Args:\n",
    "            weights (numpy.array): An array of tunable parameters that help define the gates needed.\n",
    "\n",
    "        Kwargs:\n",
    "            data (list(float)): Classical data that is to be embedded in a quantum circuit.\n",
    "\n",
    "        Returns:\n",
    "            (float): The expectation value of the sum of the Pauli Z operator on every qubit.\n",
    "        \"\"\"\n",
    "        \n",
    "        # Encode the data into the quantum state\n",
    "\n",
    "        # TODO\n",
    "\n",
    "        # Define the rotation gates\n",
    "\n",
    "        # TODO\n",
    "\n",
    "        # Define the entangling gates\n",
    "\n",
    "        # TODO\n",
    "\n",
    "        return\n",
    "    \n",
    "    # initialize the weights\n",
    "\n",
    "    weights = None # TODO\n",
    "\n",
    "    # Define a gradient descent optimizer with a step size of 0.01\n",
    "\n",
    "    # TODO\n",
    "\n",
    "    # Optimize the cost function for three steps\n",
    "\n",
    "    # TODO\n",
    "\n",
    "    return cost(weights, data=data)"
   ]
  },
  {
   "cell_type": "markdown",
   "id": "77b15394",
   "metadata": {},
   "source": [
    "These functions are responsible for testing the solution. You will need to run the cell below. ***Do not modify the cell.***"
   ]
  },
  {
   "cell_type": "code",
   "execution_count": null,
   "id": "2982e755",
   "metadata": {},
   "outputs": [],
   "source": [
    "def run(test_case_input: str) -> str:\n",
    "    data = json.loads(test_case_input)\n",
    "    cost_val = None # TODO\n",
    "    return str(cost_val)\n",
    "\n",
    "def check(solution_output: str, expected_output: str) -> None:\n",
    "    solution_output = json.loads(solution_output)\n",
    "    expected_output = json.loads(expected_output)\n",
    "    assert np.allclose(solution_output, expected_output, rtol=1e-4)"
   ]
  },
  {
   "cell_type": "markdown",
   "id": "d9382ed4",
   "metadata": {},
   "source": [
    "### Test cases\n",
    " Running the cell below will load the test cases.\n",
    " - input: [1.0, 2.0, 3.0, 4.0, 5.0, 6.0, 7.0, 8.0]\n",
    " \t+ expected output: 0.066040\n",
    " - input: [3.1, 1.2, 5.3, 4.4, 9.5, 7.6, 8.7, 2.8]\n",
    " \t+ expected output: 0.0153514"
   ]
  },
  {
   "cell_type": "code",
   "execution_count": null,
   "id": "f0cdead0",
   "metadata": {},
   "outputs": [],
   "source": [
    "test_cases = [['[1.0, 2.0, 3.0, 4.0, 5.0, 6.0, 7.0, 8.0]', '0.066040'], ['[3.1, 1.2, 5.3, 4.4, 9.5, 7.6, 8.7, 2.8]', '0.0153514']]"
   ]
  },
  {
   "cell_type": "markdown",
   "id": "4b3465c0",
   "metadata": {},
   "source": [
    "### Solution testing\n",
    " Once you have run every cell above, including the one with your code, the cell below will test your solution. Run the cell. If you are correct for all of the test cases, it means your solutions is correct. Otherwise, you need to double check your work."
   ]
  },
  {
   "cell_type": "code",
   "execution_count": null,
   "id": "17feb6d1",
   "metadata": {},
   "outputs": [],
   "source": [
    "for i, (input_, expected_output) in enumerate(test_cases):\n",
    "    print(f\"Running test case {i} with input '{input_}'...\")\n",
    "\n",
    "    try:\n",
    "        output = run(input_)\n",
    "\n",
    "    except Exception as exc:\n",
    "        print(f\"Runtime Error. {exc}\")\n",
    "\n",
    "    else:\n",
    "        if message := check(output, expected_output):\n",
    "            print(f\"Wrong Answer. Have: '{output}'. Want: '{expected_output}'.\")\n",
    "\n",
    "        else:\n",
    "            print(\"Correct!\")"
   ]
  }
 ],
 "metadata": {
  "language_info": {
   "name": "python"
  }
 },
 "nbformat": 4,
 "nbformat_minor": 5
}
